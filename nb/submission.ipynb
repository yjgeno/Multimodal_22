{
 "cells": [
  {
   "cell_type": "code",
   "execution_count": 1,
   "id": "73d6ad3c",
   "metadata": {},
   "outputs": [],
   "source": [
    "import os\n",
    "import numpy as np\n",
    "import pandas as pd\n",
    "import scanpy as sc\n",
    "import json\n",
    "import torch "
   ]
  },
  {
   "cell_type": "code",
   "execution_count": 2,
   "id": "43791832",
   "metadata": {},
   "outputs": [],
   "source": [
    "import sys \n",
    "sys.path.append(\"../\")\n",
    "from src.model import load_model\n",
    "from src.utils import test_to_tensor\n",
    "\n",
    "%load_ext autoreload\n",
    "%autoreload 2"
   ]
  },
  {
   "cell_type": "code",
   "execution_count": 3,
   "id": "df09623d",
   "metadata": {},
   "outputs": [
    {
     "name": "stdout",
     "output_type": "stream",
     "text": [
      "['cite_multitask_L2optim.th', 'multi_ncorr_optim.th']\n"
     ]
    }
   ],
   "source": [
    "MODEL_DIR = \"C:/Users/yjyang027/Documents/git/Multimodal_22/models/\"\n",
    "print(os.listdir(MODEL_DIR))"
   ]
  },
  {
   "cell_type": "code",
   "execution_count": 4,
   "id": "cb36f4a4",
   "metadata": {},
   "outputs": [],
   "source": [
    "DATA_DIR = \"C:/Users/yjyang027/Documents/git/Multimodal_22/data/\"\n",
    "\n",
    "SUBMISSION = os.path.join(DATA_DIR,\"sample_submission.csv\")\n",
    "EVALUATION_IDS = os.path.join(DATA_DIR,\"evaluation_ids.csv\")\n",
    "\n",
    "CITE_TEST_INPUTS = os.path.join(DATA_DIR,\"cite_test_x.h5ad\") \n",
    "MULTIOME_TEST_INPUTS = os.path.join(DATA_DIR,\"multi_test_x.h5ad\")"
   ]
  },
  {
   "cell_type": "code",
   "execution_count": 5,
   "id": "f1971772",
   "metadata": {},
   "outputs": [
    {
     "data": {
      "text/html": [
       "<div>\n",
       "<style scoped>\n",
       "    .dataframe tbody tr th:only-of-type {\n",
       "        vertical-align: middle;\n",
       "    }\n",
       "\n",
       "    .dataframe tbody tr th {\n",
       "        vertical-align: top;\n",
       "    }\n",
       "\n",
       "    .dataframe thead th {\n",
       "        text-align: right;\n",
       "    }\n",
       "</style>\n",
       "<table border=\"1\" class=\"dataframe\">\n",
       "  <thead>\n",
       "    <tr style=\"text-align: right;\">\n",
       "      <th></th>\n",
       "      <th>cell_id</th>\n",
       "      <th>gene_id</th>\n",
       "    </tr>\n",
       "    <tr>\n",
       "      <th>row_id</th>\n",
       "      <th></th>\n",
       "      <th></th>\n",
       "    </tr>\n",
       "  </thead>\n",
       "  <tbody>\n",
       "    <tr>\n",
       "      <th>0</th>\n",
       "      <td>c2150f55becb</td>\n",
       "      <td>CD86</td>\n",
       "    </tr>\n",
       "    <tr>\n",
       "      <th>1</th>\n",
       "      <td>c2150f55becb</td>\n",
       "      <td>CD274</td>\n",
       "    </tr>\n",
       "    <tr>\n",
       "      <th>2</th>\n",
       "      <td>c2150f55becb</td>\n",
       "      <td>CD270</td>\n",
       "    </tr>\n",
       "    <tr>\n",
       "      <th>3</th>\n",
       "      <td>c2150f55becb</td>\n",
       "      <td>CD155</td>\n",
       "    </tr>\n",
       "    <tr>\n",
       "      <th>4</th>\n",
       "      <td>c2150f55becb</td>\n",
       "      <td>CD112</td>\n",
       "    </tr>\n",
       "    <tr>\n",
       "      <th>...</th>\n",
       "      <td>...</td>\n",
       "      <td>...</td>\n",
       "    </tr>\n",
       "    <tr>\n",
       "      <th>65744175</th>\n",
       "      <td>2c53aa67933d</td>\n",
       "      <td>ENSG00000134419</td>\n",
       "    </tr>\n",
       "    <tr>\n",
       "      <th>65744176</th>\n",
       "      <td>2c53aa67933d</td>\n",
       "      <td>ENSG00000186862</td>\n",
       "    </tr>\n",
       "    <tr>\n",
       "      <th>65744177</th>\n",
       "      <td>2c53aa67933d</td>\n",
       "      <td>ENSG00000170959</td>\n",
       "    </tr>\n",
       "    <tr>\n",
       "      <th>65744178</th>\n",
       "      <td>2c53aa67933d</td>\n",
       "      <td>ENSG00000107874</td>\n",
       "    </tr>\n",
       "    <tr>\n",
       "      <th>65744179</th>\n",
       "      <td>2c53aa67933d</td>\n",
       "      <td>ENSG00000166012</td>\n",
       "    </tr>\n",
       "  </tbody>\n",
       "</table>\n",
       "<p>65744180 rows × 2 columns</p>\n",
       "</div>"
      ],
      "text/plain": [
       "               cell_id          gene_id\n",
       "row_id                                 \n",
       "0         c2150f55becb             CD86\n",
       "1         c2150f55becb            CD274\n",
       "2         c2150f55becb            CD270\n",
       "3         c2150f55becb            CD155\n",
       "4         c2150f55becb            CD112\n",
       "...                ...              ...\n",
       "65744175  2c53aa67933d  ENSG00000134419\n",
       "65744176  2c53aa67933d  ENSG00000186862\n",
       "65744177  2c53aa67933d  ENSG00000170959\n",
       "65744178  2c53aa67933d  ENSG00000107874\n",
       "65744179  2c53aa67933d  ENSG00000166012\n",
       "\n",
       "[65744180 rows x 2 columns]"
      ]
     },
     "execution_count": 5,
     "metadata": {},
     "output_type": "execute_result"
    }
   ],
   "source": [
    "# submit: map eval to submission by \"row_id\"\n",
    "\n",
    "eval_ids = pd.read_csv(EVALUATION_IDS, index_col=\"row_id\")\n",
    "eval_ids"
   ]
  },
  {
   "cell_type": "code",
   "execution_count": 6,
   "id": "294ee6a6",
   "metadata": {},
   "outputs": [
    {
     "data": {
      "text/html": [
       "<div>\n",
       "<style scoped>\n",
       "    .dataframe tbody tr th:only-of-type {\n",
       "        vertical-align: middle;\n",
       "    }\n",
       "\n",
       "    .dataframe tbody tr th {\n",
       "        vertical-align: top;\n",
       "    }\n",
       "\n",
       "    .dataframe thead th {\n",
       "        text-align: right;\n",
       "    }\n",
       "</style>\n",
       "<table border=\"1\" class=\"dataframe\">\n",
       "  <thead>\n",
       "    <tr style=\"text-align: right;\">\n",
       "      <th></th>\n",
       "      <th>cell_id</th>\n",
       "      <th>gene_id</th>\n",
       "    </tr>\n",
       "    <tr>\n",
       "      <th>row_id</th>\n",
       "      <th></th>\n",
       "      <th></th>\n",
       "    </tr>\n",
       "  </thead>\n",
       "  <tbody>\n",
       "    <tr>\n",
       "      <th>6812818</th>\n",
       "      <td>ad5a949989b2</td>\n",
       "      <td>CD88</td>\n",
       "    </tr>\n",
       "    <tr>\n",
       "      <th>6812819</th>\n",
       "      <td>ad5a949989b2</td>\n",
       "      <td>CD224</td>\n",
       "    </tr>\n",
       "    <tr>\n",
       "      <th>6812820</th>\n",
       "      <td>8d287040728a</td>\n",
       "      <td>ENSG00000204091</td>\n",
       "    </tr>\n",
       "    <tr>\n",
       "      <th>6812821</th>\n",
       "      <td>8d287040728a</td>\n",
       "      <td>ENSG00000198938</td>\n",
       "    </tr>\n",
       "  </tbody>\n",
       "</table>\n",
       "</div>"
      ],
      "text/plain": [
       "              cell_id          gene_id\n",
       "row_id                                \n",
       "6812818  ad5a949989b2             CD88\n",
       "6812819  ad5a949989b2            CD224\n",
       "6812820  8d287040728a  ENSG00000204091\n",
       "6812821  8d287040728a  ENSG00000198938"
      ]
     },
     "execution_count": 6,
     "metadata": {},
     "output_type": "execute_result"
    }
   ],
   "source": [
    "eval_ids[48663*140-2:48663*140+2]"
   ]
  },
  {
   "cell_type": "code",
   "execution_count": null,
   "id": "1981d274",
   "metadata": {},
   "outputs": [],
   "source": [
    "# # confirm the order\n",
    "\n",
    "# len(np.unique(eval_ids[\"cell_id\"])) # 65443\n",
    "\n",
    "# print(ada_x.obs.tail())\n",
    "# print(eval_ids[\"cell_id\"][48663*140-5:48663*140+2])\n",
    "\n",
    "# ada_y = sc.read_h5ad(os.path.join(DATA_DIR, \"cite_train_y.h5ad\"))\n",
    "# print(ada_y.var[:1], ada_y.var[-1:])\n",
    "# print(eval_ids[\"gene_id\"][140-2:140+2])"
   ]
  },
  {
   "cell_type": "markdown",
   "id": "21b1b1b4",
   "metadata": {},
   "source": [
    "### map preds to submit"
   ]
  },
  {
   "cell_type": "code",
   "execution_count": null,
   "id": "14fd4479",
   "metadata": {},
   "outputs": [],
   "source": [
    "# eval_ids_cite = eval_ids[:48663*140]\n",
    "# eval_ids_multi = eval_ids[48663*140:]\n",
    "\n",
    "# print(len(eval_ids_cite), len(eval_ids_multi))"
   ]
  },
  {
   "cell_type": "code",
   "execution_count": null,
   "id": "379e19d8",
   "metadata": {},
   "outputs": [],
   "source": [
    "# with open(os.path.join(DATA_DIR,'feature_id_dict_cite.json'), 'r') as f:\n",
    "#     feature_id_dict_cite = json.load(f)\n",
    "# with open(os.path.join(DATA_DIR,'feature_id_dict_multi.json'), 'r') as f:\n",
    "#     feature_id_dict_multi = json.load(f)\n",
    "# with open(os.path.join(DATA_DIR,'cell_id_dict_cite.json'), 'r') as f:\n",
    "#     cell_id_dict_cite = json.load(f)\n",
    "# with open(os.path.join(DATA_DIR,'cell_id_dict_multi.json'), 'r') as f:\n",
    "#     cell_id_dict_multi = json.load(f)\n",
    "\n",
    "# print(len(cell_id_dict_cite), len(feature_id_dict_cite))\n",
    "# print(len(cell_id_dict_multi), len(feature_id_dict_multi))"
   ]
  },
  {
   "cell_type": "code",
   "execution_count": null,
   "id": "c813029a",
   "metadata": {},
   "outputs": [],
   "source": [
    "# # generate test idx (cell, gene)\n",
    "# eval_ids = pd.read_csv(EVALUATION_IDS, index_col=\"row_id\")\n",
    "# eval_ids_cite = eval_ids[:48663*140]\n",
    "# eval_ids_multi = eval_ids[48663*140:]\n",
    "# print(len(eval_ids_cite), len(eval_ids_multi))\n",
    "\n",
    "# eval_ids_cite[\"cell_idx\"] = eval_ids_cite[\"cell_id\"].map(cell_id_dict_cite)\n",
    "# eval_ids_cite[\"feature_idx\"] = eval_ids_cite[\"gene_id\"].map(feature_id_dict_cite)\n",
    "# eval_ids_cite[\"submit_idx\"] = eval_ids_cite[[\"cell_idx\", \"feature_idx\"]].values.tolist()\n",
    "# eval_ids_multi[\"cell_idx\"] = eval_ids_multi[\"cell_id\"].map(cell_id_dict_multi)\n",
    "# eval_ids_multi[\"feature_idx\"] = eval_ids_multi[\"gene_id\"].map(feature_id_dict_multi)\n",
    "# eval_ids_multi[\"submit_idx\"] = eval_ids_multi[[\"cell_idx\", \"feature_idx\"]].values.tolist()\n",
    "# np.savez_compressed('submit_idx_cite.npz', np.array(list(eval_ids_cite[\"submit_idx\"])))\n",
    "# np.savez_compressed('submit_idx_multi.npz', np.array(list(eval_ids_multi[\"submit_idx\"])))"
   ]
  },
  {
   "cell_type": "code",
   "execution_count": 10,
   "id": "0ceaa651",
   "metadata": {},
   "outputs": [
    {
     "name": "stdout",
     "output_type": "stream",
     "text": [
      "(6812820, 2) (58931360, 2)\n"
     ]
    }
   ],
   "source": [
    "# load test idx\n",
    "\n",
    "eval_ids_cite = np.load(os.path.join(DATA_DIR, \"submit_idx_cite.npz\"))\n",
    "eval_ids_multi = np.load(os.path.join(DATA_DIR, \"submit_idx_multi.npz\"))\n",
    "eval_ids_cite = eval_ids_cite.f.arr_0\n",
    "eval_ids_multi = eval_ids_multi.f.arr_0\n",
    "\n",
    "print(eval_ids_cite.shape, eval_ids_multi.shape)"
   ]
  },
  {
   "cell_type": "code",
   "execution_count": 8,
   "id": "358cbadc",
   "metadata": {},
   "outputs": [
    {
     "name": "stdout",
     "output_type": "stream",
     "text": [
      "(48663, 140) (55935, 23418)\n"
     ]
    }
   ],
   "source": [
    "# load preds\n",
    "\n",
    "pred_y_cite = np.load('../preds/pred_y_cite.npz')\n",
    "pred_y_multi = np.load('../preds/pred_y_multi.npz')\n",
    "pred_y_cite = pred_y_cite.f.arr_0\n",
    "pred_y_multi = pred_y_multi.f.arr_0\n",
    "\n",
    "print(pred_y_cite.shape, pred_y_multi.shape)"
   ]
  },
  {
   "cell_type": "code",
   "execution_count": 22,
   "id": "31ee3051",
   "metadata": {},
   "outputs": [
    {
     "name": "stdout",
     "output_type": "stream",
     "text": [
      "6812820 58931360\n"
     ]
    }
   ],
   "source": [
    "# extract preds in order of eval\n",
    "\n",
    "pred_y_cite_submit = [pred_y_cite[eval_ids_cite[i][0]][eval_ids_cite[i][1]] for i in range(len(eval_ids_cite))]\n",
    "pred_y_multi_submit = [pred_y_multi[eval_ids_multi[i][0]][eval_ids_multi[i][1]] for i in range(len(eval_ids_multi))]\n",
    "\n",
    "print(len(pred_y_cite_submit), len(pred_y_multi_submit))"
   ]
  },
  {
   "cell_type": "code",
   "execution_count": 23,
   "id": "b3ccad3d",
   "metadata": {},
   "outputs": [
    {
     "data": {
      "text/html": [
       "<div>\n",
       "<style scoped>\n",
       "    .dataframe tbody tr th:only-of-type {\n",
       "        vertical-align: middle;\n",
       "    }\n",
       "\n",
       "    .dataframe tbody tr th {\n",
       "        vertical-align: top;\n",
       "    }\n",
       "\n",
       "    .dataframe thead th {\n",
       "        text-align: right;\n",
       "    }\n",
       "</style>\n",
       "<table border=\"1\" class=\"dataframe\">\n",
       "  <thead>\n",
       "    <tr style=\"text-align: right;\">\n",
       "      <th></th>\n",
       "      <th>target</th>\n",
       "    </tr>\n",
       "    <tr>\n",
       "      <th>row_id</th>\n",
       "      <th></th>\n",
       "    </tr>\n",
       "  </thead>\n",
       "  <tbody>\n",
       "    <tr>\n",
       "      <th>0</th>\n",
       "      <td>0.0</td>\n",
       "    </tr>\n",
       "    <tr>\n",
       "      <th>1</th>\n",
       "      <td>0.0</td>\n",
       "    </tr>\n",
       "    <tr>\n",
       "      <th>2</th>\n",
       "      <td>0.0</td>\n",
       "    </tr>\n",
       "    <tr>\n",
       "      <th>3</th>\n",
       "      <td>0.0</td>\n",
       "    </tr>\n",
       "    <tr>\n",
       "      <th>4</th>\n",
       "      <td>0.0</td>\n",
       "    </tr>\n",
       "  </tbody>\n",
       "</table>\n",
       "</div>"
      ],
      "text/plain": [
       "        target\n",
       "row_id        \n",
       "0          0.0\n",
       "1          0.0\n",
       "2          0.0\n",
       "3          0.0\n",
       "4          0.0"
      ]
     },
     "execution_count": 23,
     "metadata": {},
     "output_type": "execute_result"
    }
   ],
   "source": [
    "submission = pd.read_csv(SUBMISSION, index_col=\"row_id\")\n",
    "submission.head()"
   ]
  },
  {
   "cell_type": "code",
   "execution_count": 25,
   "id": "de3c30a9",
   "metadata": {},
   "outputs": [
    {
     "data": {
      "text/html": [
       "<div>\n",
       "<style scoped>\n",
       "    .dataframe tbody tr th:only-of-type {\n",
       "        vertical-align: middle;\n",
       "    }\n",
       "\n",
       "    .dataframe tbody tr th {\n",
       "        vertical-align: top;\n",
       "    }\n",
       "\n",
       "    .dataframe thead th {\n",
       "        text-align: right;\n",
       "    }\n",
       "</style>\n",
       "<table border=\"1\" class=\"dataframe\">\n",
       "  <thead>\n",
       "    <tr style=\"text-align: right;\">\n",
       "      <th></th>\n",
       "      <th>target</th>\n",
       "    </tr>\n",
       "    <tr>\n",
       "      <th>row_id</th>\n",
       "      <th></th>\n",
       "    </tr>\n",
       "  </thead>\n",
       "  <tbody>\n",
       "    <tr>\n",
       "      <th>6812818</th>\n",
       "      <td>8.223215</td>\n",
       "    </tr>\n",
       "    <tr>\n",
       "      <th>6812819</th>\n",
       "      <td>3.807193</td>\n",
       "    </tr>\n",
       "    <tr>\n",
       "      <th>6812820</th>\n",
       "      <td>-0.046130</td>\n",
       "    </tr>\n",
       "    <tr>\n",
       "      <th>6812821</th>\n",
       "      <td>0.475898</td>\n",
       "    </tr>\n",
       "  </tbody>\n",
       "</table>\n",
       "</div>"
      ],
      "text/plain": [
       "           target\n",
       "row_id           \n",
       "6812818  8.223215\n",
       "6812819  3.807193\n",
       "6812820 -0.046130\n",
       "6812821  0.475898"
      ]
     },
     "execution_count": 25,
     "metadata": {},
     "output_type": "execute_result"
    }
   ],
   "source": [
    "assert len(submission) == len(pred_y_cite_submit) + len(pred_y_multi_submit)\n",
    "\n",
    "# submission.loc[submission.index[:len(pred_y.ravel())], \"target\"] = pred_y.ravel() # assign\n",
    "submission.loc[submission.index[:len(pred_y_cite_submit)], \"target\"] = pred_y_cite_submit\n",
    "submission.loc[submission.index[len(pred_y_cite_submit):], \"target\"] = pred_y_multi_submit\n",
    "submission[48663*140-2:48663*140+2]"
   ]
  },
  {
   "cell_type": "code",
   "execution_count": 29,
   "id": "4b5e8474",
   "metadata": {},
   "outputs": [],
   "source": [
    "OUTPUT = os.path.join(DATA_DIR,\"submission_1.zip\")\n",
    "\n",
    "submission.to_csv(OUTPUT, index=True, compression=\"zip\")"
   ]
  },
  {
   "cell_type": "code",
   "execution_count": null,
   "id": "7bfe874e",
   "metadata": {},
   "outputs": [],
   "source": []
  }
 ],
 "metadata": {
  "kernelspec": {
   "display_name": "Python 3 (ipykernel)",
   "language": "python",
   "name": "python3"
  },
  "language_info": {
   "codemirror_mode": {
    "name": "ipython",
    "version": 3
   },
   "file_extension": ".py",
   "mimetype": "text/x-python",
   "name": "python",
   "nbconvert_exporter": "python",
   "pygments_lexer": "ipython3",
   "version": "3.9.13"
  }
 },
 "nbformat": 4,
 "nbformat_minor": 5
}
