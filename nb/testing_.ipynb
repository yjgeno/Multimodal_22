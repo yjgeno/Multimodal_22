{
 "cells": [
  {
   "cell_type": "code",
   "execution_count": 1,
   "id": "9e830d6c",
   "metadata": {},
   "outputs": [],
   "source": [
    "import numpy as np\n",
    "import scanpy as sc\n",
    "import torch\n",
    "\n",
    "from scipy.stats import pearsonr\n",
    "from sklearn.metrics import mean_squared_error"
   ]
  },
  {
   "cell_type": "code",
   "execution_count": 2,
   "id": "2445fe6f",
   "metadata": {},
   "outputs": [],
   "source": [
    "PATH = \"../\"\n",
    "\n",
    "import sys \n",
    "sys.path.append(PATH)\n",
    "\n",
    "from src.data import sc_Dataset\n",
    "from src.model import CrossmodalNet, load_model, load_hparams\n",
    "from src.utils import test_to_tensor\n",
    "\n",
    "%load_ext autoreload\n",
    "%autoreload 2"
   ]
  },
  {
   "cell_type": "code",
   "execution_count": 3,
   "id": "10266a5d",
   "metadata": {
    "scrolled": true
   },
   "outputs": [
    {
     "name": "stdout",
     "output_type": "stream",
     "text": [
      "X to use: (13043, 14708)\n",
      "Transform counts by None\n",
      "Y to use: (13043, 99)\n",
      "{1: tensor([1., 0., 0.]), 2: tensor([0., 1., 0.]), 3: tensor([0., 0., 1.])}\n"
     ]
    }
   ],
   "source": [
    "dataset = sc_Dataset(\"cite_train_x.h5ad\",\n",
    "                     \"cite_train_y_norm.h5ad\",\n",
    "                      time_key=\"week\",\n",
    "                     )\n",
    "print(dataset.day_dict)"
   ]
  },
  {
   "cell_type": "code",
   "execution_count": 4,
   "id": "1f6e1d84",
   "metadata": {},
   "outputs": [
    {
     "name": "stdout",
     "output_type": "stream",
     "text": [
      "torch.Size([2299, 14708])\n",
      "(2299, 99)\n",
      "torch.Size([2299, 3])\n"
     ]
    }
   ],
   "source": [
    "# test_x, true_y and one-hot time_y \n",
    "\n",
    "ada_test_x = sc.read_h5ad(\"cite_test_x.h5ad\")\n",
    "ada_test_x = ada_test_x[:, dataset.var_names_X]\n",
    "counts_test_x = test_to_tensor(ada_test_x)\n",
    "print(counts_test_x.shape)\n",
    "\n",
    "true_test_y = np.load(\"cite_test_y_norm.npz\")[\"arr_0\"] \n",
    "true_test_y = true_test_y.T\n",
    "print(true_test_y.shape)\n",
    "\n",
    "test_y_day = torch.stack([dataset.day_dict[t] for t in ada_test_x.obs[\"week\"]])\n",
    "print(test_y_day.shape)"
   ]
  },
  {
   "cell_type": "code",
   "execution_count": 5,
   "id": "099ede69",
   "metadata": {},
   "outputs": [],
   "source": [
    "hparams_load = load_hparams(\"params_0322_data2.json\")\n",
    "model = load_model(\"CrossmodalNet_0322_data2.th\", \n",
    "                   n_input=14708, \n",
    "                   n_output=99, \n",
    "                   time_p=dataset.unique_day,\n",
    "                   hparams_dict=hparams_load\n",
    "                   )\n",
    "# model"
   ]
  },
  {
   "cell_type": "code",
   "execution_count": 6,
   "id": "a0d25ffc",
   "metadata": {},
   "outputs": [
    {
     "name": "stdout",
     "output_type": "stream",
     "text": [
      "(2299, 99)\n"
     ]
    }
   ],
   "source": [
    "model.eval()\n",
    "\n",
    "pred_cite_y = model(counts_test_x, T=test_y_day)\n",
    "pred_cite_y_np = pred_cite_y.detach().cpu().numpy()\n",
    "\n",
    "print(pred_cite_y_np.shape)"
   ]
  },
  {
   "cell_type": "code",
   "execution_count": 8,
   "id": "272b556b",
   "metadata": {},
   "outputs": [],
   "source": [
    "corr = [pearsonr(true_test_y[i], pred_cite_y_np[i])[0] for i in range(len(true_test_y))]\n",
    "mse = mean_squared_error(true_test_y, pred_cite_y_np, multioutput=\"raw_values\") \n",
    "\n",
    "# print(\"corr:\", np.mean(corr))\n",
    "# print(\"mse:\", np.mean(mse))"
   ]
  },
  {
   "cell_type": "code",
   "execution_count": null,
   "id": "4e3fee33",
   "metadata": {},
   "outputs": [],
   "source": []
  }
 ],
 "metadata": {
  "kernelspec": {
   "display_name": "Python 3 (ipykernel)",
   "language": "python",
   "name": "python3"
  },
  "language_info": {
   "codemirror_mode": {
    "name": "ipython",
    "version": 3
   },
   "file_extension": ".py",
   "mimetype": "text/x-python",
   "name": "python",
   "nbconvert_exporter": "python",
   "pygments_lexer": "ipython3",
   "version": "3.9.13"
  }
 },
 "nbformat": 4,
 "nbformat_minor": 5
}
